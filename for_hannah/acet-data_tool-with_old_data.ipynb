{
 "cells": [
  {
   "cell_type": "code",
   "execution_count": null,
   "metadata": {
    "collapsed": true,
    "run_control": {
     "marked": true
    }
   },
   "outputs": [],
   "source": [
    "%matplotlib inline\n",
    "#%matplotlib notebook"
   ]
  },
  {
   "cell_type": "markdown",
   "metadata": {},
   "source": [
    "For high dpi displays."
   ]
  },
  {
   "cell_type": "code",
   "execution_count": null,
   "metadata": {
    "collapsed": true
   },
   "outputs": [],
   "source": [
    "%config InlineBackend.figure_format = 'retina'"
   ]
  },
  {
   "cell_type": "markdown",
   "metadata": {},
   "source": [
    "# 0. General note"
   ]
  },
  {
   "cell_type": "markdown",
   "metadata": {
    "collapsed": true
   },
   "source": [
    "- This notebook fits a BM3 EoS and propagates uncertainties.\n",
    "- Primarily uses burnman and LMFit packages.\n",
    "- Loads in data from single LOG files.\n",
    "- Loads in ruby spectrum .asc files.\n",
    "- Fits ruby spectrum with 2 Lorentzians and a linear background.\n",
    "- John Lazarz - 171221"
   ]
  },
  {
   "cell_type": "markdown",
   "metadata": {},
   "source": [
    "# 1. General setup"
   ]
  },
  {
   "cell_type": "code",
   "execution_count": null,
   "metadata": {
    "collapsed": true
   },
   "outputs": [],
   "source": [
    "import os\n",
    "import sys\n",
    "import numpy as np\n",
    "from scipy import constants as con\n",
    "import matplotlib.pyplot as plt\n",
    "from matplotlib.patches import Ellipse\n",
    "import matplotlib.colors as colors\n",
    "import matplotlib.patches as mpatches\n",
    "import matplotlib.lines as mlines\n",
    "import uncertainties as uct\n",
    "from uncertainties import unumpy as unp\n",
    "from lmfit import Model\n",
    "from lmfit.models import LinearModel, LorentzianModel\n",
    "import pandas as pd\n",
    "from IPython.display import display\n",
    "import burnman\n",
    "import glob\n",
    "import re"
   ]
  },
  {
   "cell_type": "code",
   "execution_count": null,
   "metadata": {
    "collapsed": true
   },
   "outputs": [],
   "source": [
    "if not os.path.exists('burnman') and os.path.exists('../burnman'):\n",
    "    sys.path.insert(1, os.path.abspath('..'))"
   ]
  },
  {
   "cell_type": "markdown",
   "metadata": {},
   "source": [
    "### What sample is this? - Where are the data folders?"
   ]
  },
  {
   "cell_type": "code",
   "execution_count": null,
   "metadata": {
    "collapsed": false
   },
   "outputs": [],
   "source": [
    "sample = 'Acetaminophen'\n",
    "T = 298.15\n",
    "\n",
    "ruby = r'/Users/jlazarz/Documents/data/xrd/acetaminophen/dac/acetaminophen/ruby'\n",
    "log = r'/Users/jlazarz/Documents/data/xrd/acetaminophen/dac/acetaminophen'\n",
    "\n",
    "old_ruby = r'/Users/jlazarz/Documents/data/xrd/acetaminophen/dac/acetaminophen/dac1-failed/ruby'\n",
    "old_log = r'/Users/jlazarz/Documents/data/xrd/acetaminophen/dac/acetaminophen/dac1-failed'\n",
    "old_ruby_folder = os.path.abspath(old_ruby)\n",
    "old_log_folder = os.path.abspath(old_log)\n",
    "    \n",
    "if os.path.exists(os.path.abspath(ruby)):\n",
    "    ruby_folder = os.path.abspath(ruby)\n",
    "    log_folder = os.path.abspath(log)\n",
    "    print('Using working directory.')\n",
    "\n",
    "else:\n",
    "    print('Directory does not exist.......')\n"
   ]
  },
  {
   "cell_type": "markdown",
   "metadata": {},
   "source": [
    "# 2. Read data"
   ]
  },
  {
   "cell_type": "markdown",
   "metadata": {},
   "source": [
    "Load in the .log files from directory as well as ruby .asc files from a folder named \"ruby\" within the directory.\n"
   ]
  },
  {
   "cell_type": "code",
   "execution_count": null,
   "metadata": {
    "collapsed": false
   },
   "outputs": [],
   "source": [
    "#idx_file = 0\n",
    "#sample = logs[idx_file]\n",
    "os.chdir(ruby_folder)\n",
    "rubys = glob.glob('*.asc')\n",
    "print('%s\\n' % rubys)\n",
    "print(sample)"
   ]
  },
  {
   "cell_type": "markdown",
   "metadata": {},
   "source": [
    "# 3. Organize and fit data\n",
    "\n",
    "First, we sort the ruby spectra into 2 lists. One list for 'table_rubys' and one list for 'sample_rubys'.\n",
    "\n",
    "#### extract_ruby\n",
    "In the 'extract_ruby' function we load the ruby spectrum from '.asc' files into lists. We then fit the data in the 'ruby_fit' funciton using the (Dawaele et al. 2008) equation to determine pressure. \n",
    "\n",
    "#### extract_cell\n",
    "In the 'extract_cell' function we extract the cell information from the log file. This section searches through the log file and loads lattice parameters from the **last** \"lsq\" and the **last** \"clsq\" performed in Single in that log file. These lattice parameters, as well as standard deviations, are loaded into \"cell\" dictionary. \n",
    "\n",
    "Parameters collected from both \"lsq\" and \"clsq\": a, a_sigma, b, b_sigma, c, c_sigma, alpha, alpha_sigma, beta, beta_sigma ,gamma, gamma_sigma, volume, volume_sigma\n",
    "\n",
    "To access parameters example:\n",
    " - To print \"a\" parameter from \"lsq\" function:\n",
    "     - print(cell[\"lsq\"][\"a\"])\n",
    " - To print \"a_sigma\" parameter from \"clsq\" function:\n",
    "     - print(cell[\"clsq\"][\"a_sigma\"])"
   ]
  },
  {
   "cell_type": "code",
   "execution_count": null,
   "metadata": {
    "collapsed": true
   },
   "outputs": [],
   "source": [
    "table_rubys = []\n",
    "sample_rubys = []\n",
    "for i in  rubys:\n",
    "    if re.search('table',i):\n",
    "        table_rubys.append(i)\n",
    "    else:\n",
    "        sample_rubys.append(i)"
   ]
  },
  {
   "cell_type": "code",
   "execution_count": null,
   "metadata": {
    "collapsed": false,
    "scrolled": true
   },
   "outputs": [],
   "source": [
    "def calc_pressure(sample_lam,table_lam):\n",
    "    a = 1920.0\n",
    "    b = 9.61\n",
    "    r1 = sample_lam\n",
    "    r1_o = table_lam\n",
    "    p = (a/b)*(((r1/r1_o)**b)-1)\n",
    "    return p\n",
    "\n",
    "def normalize(y):\n",
    "    z = (y-np.min(y))/(np.max(y)-np.min(y))\n",
    "    return z\n",
    "\n",
    "def ruby_fit(x,y_data,ruby):\n",
    "    y = normalize(y_data)\n",
    "    background  = LinearModel(prefix='lin_')\n",
    "    pars = background.guess(y, x=x)\n",
    "\n",
    "    r1 = LorentzianModel(prefix='r1_')\n",
    "    pars.update(r1.make_params())\n",
    "    pars['r1_center'].set(694.3)\n",
    "    pars['r1_sigma'].set(0.000954)\n",
    "    r2 = LorentzianModel(prefix='r2_')\n",
    "    pars.update(r2.make_params())\n",
    "\n",
    "    pars['r2_center'].set(692.9)\n",
    "    pars['r2_sigma'].set(0.00135)\n",
    "    mod = r1 + r2 + background\n",
    "    init = mod.eval(pars, x=x)\n",
    "    plt.plot(x, y)\n",
    "\n",
    "    out = mod.fit(y, pars, x=x)\n",
    "\n",
    "    comps = out.eval_components(x=x)\n",
    "\n",
    "    print(out.fit_report(min_correl=0.5))\n",
    "\n",
    "    plt.plot(x, out.best_fit, 'r-')\n",
    "    plt.plot(x, comps['r1_'], 'b--')\n",
    "    plt.plot(x, comps['r2_'], 'b--')\n",
    "    plt.plot(x, comps['lin_'], 'k--')\n",
    "    plt.title(ruby,fontweight='bold')\n",
    "    plt.xlabel('Wavelength (nm)',fontweight='bold')\n",
    "    plt.ylabel('Intensity (arb. units)',fontweight='bold')\n",
    "\n",
    "    r1_center = str(out.params['r1_center']).split()[2]\n",
    "    r1_center = float(r1_center.strip('value='))\n",
    "    r1_esd = str(out.params['r1_center']).split()[4]\n",
    "    r1_esd = float(r1_esd.strip(','))\n",
    "    r2_center = str(out.params['r2_center']).split()[2]\n",
    "    r2_center = float(r2_center.strip('value='))\n",
    "    r2_esd = str(out.params['r2_center']).split()[4]\n",
    "    r2_esd = float(r2_esd.strip(','))\n",
    "\n",
    "    ruby_cent = [r1_center,r2_center]\n",
    "    ruby_esd = [r1_esd,r2_esd]\n",
    "    #print(ruby_cent)\n",
    "    #print(ruby_esd)\n",
    "    return ruby_cent\n",
    "\n",
    "def extract_ruby(ruby):    \n",
    "    with open(ruby, \"r\") as f:\n",
    "        data = np.loadtxt(f)\n",
    "\n",
    "    x = data[:,0]\n",
    "    y = data[:,1]\n",
    "    \n",
    "    y_norm = normalize(y)\n",
    "    return x,y_norm\n",
    "\n",
    "def new_fit():\n",
    "    #table ruby wavelength\n",
    "    table_lam = []\n",
    "    for i in table_rubys:\n",
    "        fig = plt.figure()\n",
    "        x,y = extract_ruby(i)\n",
    "        r1,r2 = ruby_fit(x,y,i)\n",
    "        table_lam.append(r1)\n",
    "\n",
    "    sample_lam = []\n",
    "    for i in sample_rubys:\n",
    "        fig = plt.figure()\n",
    "        x,y = extract_ruby(i)\n",
    "        r1,r2 = ruby_fit(x,y,i)\n",
    "        sample_lam.append(r1)\n",
    "\n",
    "    dac_pressures = []\n",
    "    for i in range(len(sample_lam)):\n",
    "        p = calc_pressure(sample_lam[i],table_lam[i])\n",
    "        dac_pressures.append(p)\n",
    "\n",
    "    if dac_pressures[0] == 0:\n",
    "        dac_pressures[0] = 1e-8\n",
    "\n",
    "    print(dac_pressures)\n",
    "    return dac_pressures\n",
    "\n",
    "dac_pressures = new_fit()\n"
   ]
  },
  {
   "cell_type": "code",
   "execution_count": null,
   "metadata": {
    "collapsed": false
   },
   "outputs": [],
   "source": [
    "def old_fit():\n",
    "    os.chdir(old_ruby_folder)\n",
    "    rubys = glob.glob('*.asc')\n",
    "    table_rubys = []\n",
    "    sample_rubys = []\n",
    "    for i in  rubys:\n",
    "        if re.search('table',i):\n",
    "            table_rubys.append(i)\n",
    "        else:\n",
    "            sample_rubys.append(i)\n",
    "            \n",
    "    #table ruby wavelength\n",
    "    table_lam = []\n",
    "    for i in table_rubys:\n",
    "        fig = plt.figure()\n",
    "        x,y = extract_ruby(i)\n",
    "        r1,r2 = ruby_fit(x,y,i)\n",
    "        table_lam.append(r1)\n",
    "\n",
    "    sample_lam = []\n",
    "    for i in sample_rubys:\n",
    "        fig = plt.figure()\n",
    "        x,y = extract_ruby(i)\n",
    "        r1,r2 = ruby_fit(x,y,i)\n",
    "        sample_lam.append(r1)\n",
    "\n",
    "    dac_pressures = []\n",
    "    for i in range(len(sample_lam)):\n",
    "        p = calc_pressure(sample_lam[i],table_lam[i])\n",
    "        dac_pressures.append(p)\n",
    "\n",
    "    if dac_pressures[0] == 0:\n",
    "        dac_pressures[0] = 1e-8\n",
    "\n",
    "    print(dac_pressures)\n",
    "    return dac_pressures\n",
    "\n",
    "old_dac_pressures = old_fit()\n",
    "os.chdir(ruby_folder)"
   ]
  },
  {
   "cell_type": "code",
   "execution_count": null,
   "metadata": {
    "collapsed": false
   },
   "outputs": [],
   "source": [
    "print('NEW PRESSURES: \\n')\n",
    "for i in range(len(dac_pressures)): \n",
    "    print('P%s : %.3f GPa' % (i,dac_pressures[i]))\n",
    "    \n",
    "print('\\nOLD PRESSURES: \\n')\n",
    "for i in range(len(old_dac_pressures)): \n",
    "    print('P%s : %.3f GPa' % (i,old_dac_pressures[i]))"
   ]
  },
  {
   "cell_type": "markdown",
   "metadata": {},
   "source": [
    "# 4. Retrieve Lattice Parameters"
   ]
  },
  {
   "cell_type": "code",
   "execution_count": null,
   "metadata": {
    "collapsed": false,
    "scrolled": true
   },
   "outputs": [],
   "source": [
    "def extract_cell(log):\n",
    "    lsqstart = []\n",
    "    clsqstart = []\n",
    "    stop = []\n",
    "    with open(log, \"r\") as f:\n",
    "        searchlines = f.readlines()\n",
    "    for i, line in enumerate(searchlines):\n",
    "        if \">lsq\" in line: \n",
    "            #for l in searchlines[i:i+3]: print(l)\n",
    "            lsqstart.append(i)\n",
    "        if \">clsq\" in line:\n",
    "            clsqstart.append(i)\n",
    "        if \"Sigmas \" in line:\n",
    "            stop.append(i)\n",
    "    lsqend = []\n",
    "    clsqend = []\n",
    "    for i, spot in enumerate(stop):\n",
    "        if spot > lsqstart[len(lsqstart)-1]:\n",
    "            lsqend.append(spot)\n",
    "        if spot > clsqstart[len(clsqstart)-1]:\n",
    "            clsqend.append(spot)\n",
    "\n",
    "    lsq_range = [lsqstart[len(lsqstart)-1],lsqend[0]]\n",
    "    clsq_range = [clsqstart[len(clsqstart)-1],clsqend[0]]\n",
    "\n",
    "    lsq_dat = searchlines[lsq_range[0]:lsq_range[1]+1]\n",
    "    clsq_dat = searchlines[clsq_range[0]:clsq_range[1]+1]\n",
    "\n",
    "    key = ['a','b','c','alpha','beta','gamma','vol',\\\n",
    "           'a_sigma','b_sigma','c_sigma',\\\n",
    "           'alpha_sigma','beta_sigma','gamma_sigma','vol_sigma']\n",
    "    lsq_cell = lsq_dat[len(lsq_dat)-2].split()\n",
    "    #the first element of each is the string 'CELL' so I delete it here. \n",
    "    del lsq_cell[0]\n",
    "    lsq_cell = list(map(float,lsq_cell))\n",
    "    lsq_sigma = lsq_dat[len(lsq_dat)-1].split()\n",
    "    del lsq_sigma[0]\n",
    "    lsq_sigma = list(map(float,lsq_sigma))\n",
    "    lsq = lsq_cell+lsq_sigma\n",
    "    clsq_cell = clsq_dat[len(clsq_dat)-2].split()\n",
    "    del clsq_cell[0]\n",
    "    clsq_cell = list(map(float,clsq_cell))\n",
    "    clsq_sigma = clsq_dat[len(clsq_dat)-1].split()\n",
    "    del clsq_sigma[0]\n",
    "    clsq_sigma = list(map(float,clsq_sigma))\n",
    "    clsq = clsq_cell+clsq_sigma\n",
    "\n",
    "    lsq = dict(zip(key,lsq))\n",
    "    clsq = dict(zip(key,clsq))\n",
    "    cell = {\"lsq\":lsq,\"clsq\":clsq}\n",
    "    return cell\n",
    "\n",
    "def new_log():\n",
    "    os.chdir(log_folder)\n",
    "    logs = glob.glob('*.LOG')\n",
    "\n",
    "    lattice_params = []\n",
    "    for i in logs:\n",
    "        cell = extract_cell(i)\n",
    "        lattice_params.append(cell)\n",
    "        #print(cell[\"lsq\"][\"a\"])\n",
    "\n",
    "    for i in range(len(lattice_params)):\n",
    "        cell_pandas = pd.DataFrame(lattice_params[i])\n",
    "        print('P%s - %.3f GPa' % (i,dac_pressures[i]))\n",
    "        display(cell_pandas)\n",
    "    return lattice_params\n",
    "\n",
    "def old_log():\n",
    "    os.chdir(old_log_folder)\n",
    "    logs = glob.glob('*.LOG')\n",
    "\n",
    "    lattice_params = []\n",
    "    for i in logs:\n",
    "        cell = extract_cell(i)\n",
    "        lattice_params.append(cell)\n",
    "        #print(cell[\"lsq\"][\"a\"])\n",
    "\n",
    "    for i in range(len(lattice_params)):\n",
    "        cell_pandas = pd.DataFrame(lattice_params[i])\n",
    "        print('P%s - %.3f GPa' % (i,old_dac_pressures[i]))\n",
    "        display(cell_pandas)\n",
    "    os.chdir(log_folder)\n",
    "    logs = glob.glob('*.LOG')\n",
    "    return lattice_params\n",
    "\n",
    "lattice_params = new_log()\n",
    "old_lattice_params = old_log()"
   ]
  },
  {
   "cell_type": "markdown",
   "metadata": {},
   "source": [
    "# 5. Organize PV data into arrays.\n",
    "Make a `numpy` array for volume and pressure data. [$P(GPa),\\sigma_P,V({\\unicode{x212B}}^3),\\sigma_V$]."
   ]
  },
  {
   "cell_type": "code",
   "execution_count": null,
   "metadata": {
    "collapsed": true
   },
   "outputs": [],
   "source": [
    "def new_data():\n",
    "    pv_lsq = np.zeros((len(lattice_params),4))\n",
    "    pv_clsq = np.zeros((len(lattice_params),4))\n",
    "\n",
    "    for i in range(len(lattice_params)):\n",
    "        pv_lsq[i,0] = dac_pressures[i]\n",
    "        pv_lsq[i,1] = 0.00001\n",
    "        lp = lattice_params[i]\n",
    "        pv_lsq[i,2] = lp[\"lsq\"][\"vol\"]\n",
    "        pv_lsq[i,3] = lp[\"lsq\"][\"vol_sigma\"]\n",
    "\n",
    "        pv_clsq[i,0] = dac_pressures[i]\n",
    "        pv_clsq[i,1] = 0.0\n",
    "        pv_clsq[i,2] = lp[\"clsq\"][\"vol\"]\n",
    "        pv_clsq[i,3] = lp[\"clsq\"][\"vol_sigma\"]\n",
    "    return pv_lsq,pv_clsq\n",
    "\n",
    "def old_data():\n",
    "    old_pv_lsq = np.zeros((len(old_lattice_params),4))\n",
    "    old_pv_clsq = np.zeros((len(old_lattice_params),4))\n",
    "\n",
    "    for i in range(len(old_lattice_params)):\n",
    "        old_pv_lsq[i,0] = old_dac_pressures[i]\n",
    "        old_pv_lsq[i,1] = 0.00001\n",
    "        old_lp = old_lattice_params[i]\n",
    "        old_pv_lsq[i,2] = old_lp[\"lsq\"][\"vol\"]\n",
    "        old_pv_lsq[i,3] = old_lp[\"lsq\"][\"vol_sigma\"]\n",
    "\n",
    "        old_pv_clsq[i,0] = old_dac_pressures[i]\n",
    "        old_pv_clsq[i,1] = 0.0\n",
    "        old_pv_clsq[i,2] = old_lp[\"clsq\"][\"vol\"]\n",
    "        old_pv_clsq[i,3] = old_lp[\"clsq\"][\"vol_sigma\"]\n",
    "    return old_pv_lsq,old_pv_clsq\n",
    "\n",
    "pv_lsq,pv_clsq = new_data()\n",
    "old_pv_lsq,old_pv_clsq = old_data()"
   ]
  },
  {
   "cell_type": "markdown",
   "metadata": {},
   "source": [
    "# 6. Assign z (number of formula units per unit cell).\n",
    "\n",
    "-- User edits this."
   ]
  },
  {
   "cell_type": "code",
   "execution_count": null,
   "metadata": {
    "collapsed": false
   },
   "outputs": [],
   "source": [
    "z = 4.\n",
    "\n",
    "v_data = np.delete(pv_clsq,[0,1],1)\n",
    "print('Least squares equation of state fitting\\n')\n",
    "\n",
    "print('- Room temperature PV data\\n')\n",
    "print('clsq: \\n')\n",
    "print(pv_clsq)\n",
    "\n",
    "print('\\nlsq: \\n')\n",
    "print(pv_lsq)"
   ]
  },
  {
   "cell_type": "markdown",
   "metadata": {},
   "source": [
    "# 7. Plot the data."
   ]
  },
  {
   "cell_type": "code",
   "execution_count": null,
   "metadata": {
    "collapsed": false
   },
   "outputs": [],
   "source": [
    "#plt.errorbar(old_pv_lsq[:,0], old_pv_lsq[:,2], fmt='ro', \\\n",
    "#             xerr=old_pv_lsq[:,1], yerr=old_pv_lsq[:,3],label='old_lsq',fillstyle='none')\n",
    "plt.errorbar(old_pv_clsq[:,0], old_pv_clsq[:,2], fmt='bo', \\\n",
    "             xerr=old_pv_clsq[:,1], yerr=old_pv_clsq[:,3],label='old_clsq')\n",
    "\n",
    "#plt.errorbar(pv_lsq[:,0], pv_lsq[:,2], fmt='ko', \\\n",
    "#             xerr=pv_lsq[:,1], yerr=pv_lsq[:,3],label='lsq',fillstyle='none')\n",
    "plt.errorbar(pv_clsq[:,0], pv_clsq[:,2], fmt='ko', \\\n",
    "             xerr=pv_clsq[:,1], yerr=pv_clsq[:,3],label='new_clsq')\n",
    "plt.xlabel('Pressure (GPa)',fontweight='bold')\n",
    "plt.ylabel('Volume ($\\mathbf{\\AA^3}$)',fontweight='bold')\n",
    "plt.tick_params(direction='in',bottom=1,top=1,left=1,right=1)\n",
    "plt.title(\"%s EoS (%sK)\" % (sample,T),fontweight='bold')\n",
    "plt.legend()\n",
    "#plt.savefig('PV-plot.png',dpi=800)\n",
    "plt.show()\n",
    "pv_lsq,pv_clsq = old_data()"
   ]
  },
  {
   "cell_type": "markdown",
   "metadata": {},
   "source": [
    "### Note - the following actions are performed with \"clsq\" data."
   ]
  },
  {
   "cell_type": "markdown",
   "metadata": {},
   "source": [
    "### F-${f}$ plot"
   ]
  },
  {
   "cell_type": "markdown",
   "metadata": {},
   "source": [
    "Normalised pressure : $F_E=\\frac{P}{3f_E(1+2f_E)^{5/2}}$"
   ]
  },
  {
   "cell_type": "markdown",
   "metadata": {},
   "source": [
    "$\\sigma_F=F_E\\sqrt{(\\frac{\\sigma_P}{P})^2+(\\sigma')^2}$"
   ]
  },
  {
   "cell_type": "markdown",
   "metadata": {},
   "source": [
    "Eulerian Finite-strain : $f_E=\\frac{1}{2}\\left[\\left(\\frac{V}{V_0}\\right)^{-2/3}-1\\right]$"
   ]
  },
  {
   "cell_type": "markdown",
   "metadata": {},
   "source": [
    "$\\sigma_f=\\frac{1}{3}\\eta^{-5/3}\\sigma_\\eta$"
   ]
  },
  {
   "cell_type": "markdown",
   "metadata": {},
   "source": [
    "$\\sigma'=\\frac{(7\\eta^{-2/3}-5)\\sigma_\\eta}{3(1-\\eta^{-2/3})\\eta}$"
   ]
  },
  {
   "cell_type": "markdown",
   "metadata": {},
   "source": [
    "$\\eta=\\frac{V}{V_0}$"
   ]
  },
  {
   "cell_type": "code",
   "execution_count": null,
   "metadata": {
    "collapsed": false
   },
   "outputs": [],
   "source": [
    "p = pv_clsq[:,0]\n",
    "sigP = pv_clsq[:,1]\n",
    "V = pv_clsq[:,2]\n",
    "sigV = pv_clsq[:,3]\n",
    "Vo = pv_clsq[0,0]\n",
    "\n",
    "sigVo = pv_clsq[0,1]\n",
    "np.seterr(divide='ignore', invalid='ignore')\n",
    "f = (1.0/2.0)*(((V/Vo)**(-2.0/3.0))-1.0)\n",
    "F = p/(3.*f*(1.+(2.*f))**(5./2.))\n",
    "eta = V/Vo\n",
    "sigeta = np.abs(eta)*((((sigV/V)**2.0)+((sigVo/Vo)**2))**(1.0/2.0))\n",
    "sigprime = ((7.0*(eta**(-2.0/3.0))-5.0)*sigeta)/(2.0*(1.0-(eta**-2.0/3.0))*eta)\n",
    "sigF = F*np.sqrt(((sigP/p)**2.0)+(sigprime**2))\n",
    "\n",
    "line_mod = LinearModel()\n",
    "pars = line_mod.guess(np.delete(F,0), x=np.delete(f,0))\n",
    "out = line_mod.fit(np.delete(F,0), pars, x=np.delete(f,0))\n",
    "plt.plot(np.delete(f,0), out.best_fit, '-',color='black')\n",
    "\n",
    "plt.errorbar(f, F, fmt='ko', xerr=0, yerr=sigF,\\\n",
    "             label=sample,alpha=1.0,capsize = 3.)\n",
    "plt.xlabel('Eulerian strain $\\mathit{f}$',fontweight='bold')\n",
    "plt.ylabel('Normalised pressure $\\mathbf{F_E}$ (GPa)',fontweight='bold')\n",
    "plt.tick_params(direction='in',bottom=1,top=1,left=1,right=1)\n",
    "plt.title(\"%s $\\mathit{f}$-F (%sK)\" % (sample,T),fontweight='bold')\n",
    "plt.legend()\n",
    "#plt.savefig('Ff-plot.png',dpi=800)\n",
    "plt.show()"
   ]
  },
  {
   "cell_type": "markdown",
   "metadata": {},
   "source": [
    "# 8. Find initial starting parameters from Burnman dictionary."
   ]
  },
  {
   "cell_type": "code",
   "execution_count": null,
   "metadata": {
    "collapsed": false
   },
   "outputs": [],
   "source": [
    "#smp = burnman.minerals.HP_2011_ds62.stv()\n",
    "#smp = burnman.minerals.HP_2011_ds62.maj()\n",
    "path = os.path.abspath(burnman.minerals.HP_2011_ds62.__file__)\n",
    "print('Lookup file path: %s\\n' % path)\n",
    "smp = burnman.minerals.HP_2011_ds62.acet()\n",
    "print(smp.params)"
   ]
  },
  {
   "cell_type": "markdown",
   "metadata": {},
   "source": [
    "### Create array in correct units for burnman (P(Pa),T(K),V(m$^3$/mol))"
   ]
  },
  {
   "cell_type": "code",
   "execution_count": null,
   "metadata": {
    "collapsed": false
   },
   "outputs": [],
   "source": [
    "PTV = np.array([pv_clsq.T[0]*1.e9,\n",
    "                pv_clsq.T[1]*0. + 298.15,\n",
    "                burnman.tools.molar_volume_from_unit_cell_volume(pv_clsq.T[2], z)]).T\n",
    "print(PTV)"
   ]
  },
  {
   "cell_type": "markdown",
   "metadata": {},
   "source": [
    "### Create covariance matrix."
   ]
  },
  {
   "cell_type": "code",
   "execution_count": null,
   "metadata": {
    "collapsed": true
   },
   "outputs": [],
   "source": [
    "nul = 0.*PTV.T[0]\n",
    "PTV_covariances = np.array([[0.03*PTV.T[0], nul, nul], [nul, nul, nul], \n",
    "                            [nul, nul, burnman.tools.molar_volume_from_unit_cell_volume(pv_clsq.T[3], z)]]).T"
   ]
  },
  {
   "cell_type": "markdown",
   "metadata": {},
   "source": [
    "# 9. Fit BM3 eos."
   ]
  },
  {
   "cell_type": "markdown",
   "metadata": {},
   "source": [
    "Birch-Murnaghan (isothermal): $P=3K_0f\\left(1+2f\\right)^{5/2}\\left[1+\\frac{3}{2}\\left(K_0^\\prime -4\\right) f\\right]$"
   ]
  },
  {
   "cell_type": "code",
   "execution_count": null,
   "metadata": {
    "collapsed": false
   },
   "outputs": [],
   "source": [
    "help(burnman.eos_fitting.fit_PTV_data)\n",
    "params = ['V_0', 'K_0', 'Kprime_0']\n",
    "fitted_eos = burnman.eos_fitting.fit_PTV_data(smp, params, PTV, PTV_covariances, verbose=True)\n"
   ]
  },
  {
   "cell_type": "markdown",
   "metadata": {},
   "source": [
    "### Print optimized parameters."
   ]
  },
  {
   "cell_type": "code",
   "execution_count": null,
   "metadata": {
    "collapsed": false
   },
   "outputs": [],
   "source": [
    "print('Optimized equation of state for %s:' % sample)\n",
    "print('volume:[m^3/mol]\\nK:[Pa]\\n')\n",
    "burnman.tools.pretty_print_values(fitted_eos.popt, fitted_eos.pcov, fitted_eos.fit_params)\n",
    "print(fitted_eos.pcov)"
   ]
  },
  {
   "cell_type": "markdown",
   "metadata": {},
   "source": [
    "### Create confidence ellipse plots."
   ]
  },
  {
   "cell_type": "code",
   "execution_count": null,
   "metadata": {
    "collapsed": true
   },
   "outputs": [],
   "source": [
    "def plt_ellipse(cov, pos, nstdl, ax=None):\n",
    "    def eigsorted(cov):\n",
    "        vals, vecs = np.linalg.eigh(cov)\n",
    "        order = vals.argsort()[::-1]\n",
    "        return vals[order], vecs[:,order]\n",
    "\n",
    "    if ax is None:\n",
    "        ax = plt.gca()\n",
    "    \n",
    "    vals, vecs = eigsorted(cov)\n",
    "    theta = np.degrees(np.arctan2(*vecs[:,0][::-1]))\n",
    "    palet = ['red', 'cyan', 'blue']\n",
    "\n",
    "    for i in range(1,4):\n",
    "        nstd = nstdl[i-1]\n",
    "        hue = palet[i-1]\n",
    "        width, height = 2 * nstd * np.sqrt(vals)\n",
    "        ellip = Ellipse(xy=pos, width=width, height=height, angle=theta, color = hue, alpha=0.8)\n",
    "        ax.add_artist(ellip)\n",
    "        ax.tick_params(direction='in',bottom=1,top=1,left=1,right=1)\n",
    "        \n",
    "    return ellip"
   ]
  },
  {
   "cell_type": "code",
   "execution_count": null,
   "metadata": {
    "collapsed": false
   },
   "outputs": [],
   "source": [
    "n_params = len(fitted_eos.pcov[0])\n",
    "scaling = [(z/(con.N_A))*(1e30),1e-9,1e0]\n",
    "scaling = np.outer(scaling,scaling)\n",
    "\n",
    "fig, ax_array = plt.subplots(n_params-1, n_params-1)\n",
    "nstd = [3.0,2.0,1.0]\n",
    "err = [np.sqrt(fitted_eos.pcov[0,0])*(z/(con.N_A))*(1e30),np.sqrt(fitted_eos.pcov[1,1])*1e-9,\\\n",
    "        np.sqrt(fitted_eos.pcov[2,2])]\n",
    "err = np.outer(err,err)\n",
    "\n",
    "\n",
    "for i in range(n_params-1):\n",
    "    \n",
    "    for j in range(i+1, n_params):\n",
    "        indices = np.array([i, j])\n",
    "        projected_cov = (fitted_eos.pcov*scaling)[indices[:, None], indices]\n",
    "        \n",
    "        scaled_pos = np.array([fitted_eos.popt[i]*np.sqrt(scaling[i][i]),\n",
    "                               fitted_eos.popt[j]*np.sqrt(scaling[j][j])]) \n",
    "        \n",
    "        cov = projected_cov\n",
    "        pos = scaled_pos\n",
    "            \n",
    "        ellipse = plt_ellipse(cov,pos,nstd,ax=ax_array[j-1][i])\n",
    "        maxx = 1.5*2.2*np.sqrt(projected_cov[0][0])\n",
    "        maxy = 1.5*2.2*np.sqrt(projected_cov[1][1])\n",
    "        ax_array[j-1][i].set_xlim(scaled_pos[0]-maxx, scaled_pos[0]+maxx)\n",
    "        ax_array[j-1][i].set_ylim(scaled_pos[1]-maxy, scaled_pos[1]+maxy)\n",
    "        ax_array[j-1][i].yaxis.set_major_formatter(plt.FormatStrFormatter('%.1f'))\n",
    "        \n",
    "        if i == 0 and j == 1:\n",
    "            ax_array[j-1][i].errorbar(pos[0],pos[1], xerr=np.sqrt(err[0,0]), yerr=np.sqrt(err[1,1]),\\\n",
    "                    linestyle='None', marker='None', label=sample,color='black', capsize = 3.)\n",
    "            #ax_array[j-1][i].errorbar(shinmei_vo[0],shinmei_ko[0], xerr=shinmei_vo[1], yerr=shinmei_ko[1],\\\n",
    "            #        linestyle='None', marker='^', label='Shinmei et al. (1999)', color='black', capsize = 3.)\n",
    "            #ax_array[j-1][i].errorbar(angel_vo[0],angel_ko[0], xerr=angel_vo[1], yerr=angel_ko[1],\\\n",
    "            #        linestyle='None', marker='o', label='Angel and Hugh-Jones (1994)',color='black', capsize = 3.)\n",
    "            print('V0 [A^3]: %s +/- %s' % (pos[0],np.sqrt(err[0,0])))\n",
    "            v0 = uct.ufloat(pos[0], np.sqrt(err[0,0]))\n",
    "            print('K0 [GPa]: %s +/- %s' % (pos[1],np.sqrt(err[1,1])))\n",
    "        if i == 0 and j == 2:\n",
    "            ax_array[j-1][i].errorbar(pos[0],pos[1], xerr=np.sqrt(err[0,0]), yerr=np.sqrt(err[2,2]),\\\n",
    "                    linestyle='None', marker='None', label=sample,color='black', capsize = 3.)\n",
    "            #ax_array[j-1][i].errorbar(shinmei_vo[0],shinmei_kp[0], xerr=shinmei_vo[1], yerr=shinmei_kp[1],\\\n",
    "            #        linestyle='None', marker='^', label='Shinmei et al. (1999)', color='black', capsize = 3.)\n",
    "            #ax_array[j-1][i].errorbar(angel_vo[0],angel_kp[0], xerr=angel_vo[1], yerr=0.0,\\\n",
    "            #        linestyle='None', marker='o', label='Angel and Hugh-Jones (1994)',color='black', capsize = 3.)\n",
    "        if i == 1 and j == 2:\n",
    "            ax_array[j-1][i].errorbar(pos[0],pos[1], xerr=np.sqrt(err[1,1]), yerr=np.sqrt(err[2,2]),\\\n",
    "                    linestyle='None', marker='None', label=sample,color='black', capsize = 3.)\n",
    "            #ax_array[j-1][i].errorbar(shinmei_ko[0],shinmei_kp[0], xerr=shinmei_ko[1], yerr=shinmei_kp[1],\\\n",
    "            #        linestyle='None', marker='^', label='Shinmei et al. (1999)', color='black', capsize = 3.)\n",
    "            #ax_array[j-1][i].errorbar(angel_ko[0],angel_kp[0], xerr=angel_ko[1], yerr=0.0,\\\n",
    "            #        linestyle='None', marker='o', label='Angel and Hugh-Jones (1994)',color='black', capsize = 3.)\n",
    "            print('K0_prime: %s +/- %s' % (pos[1],np.sqrt(err[2,2])))\n",
    "        \n",
    "red_patch = mpatches.Patch(color='red', alpha=0.8, label='3$\\sigma$')\n",
    "cyan_patch = mpatches.Patch(color='cyan', alpha=0.8, label='2$\\sigma$')\n",
    "blue_patch = mpatches.Patch(color='blue', alpha=0.8, label='1$\\sigma$')\n",
    "us = mlines.Line2D([],[],linestyle='none',marker='+', color='black', label='This study')\n",
    "#shinmei = mlines.Line2D([],[],linestyle='none',marker='^', color='black', label='Shinmei et al. (1999)')\n",
    "#ross = mlines.Line2D([],[],linestyle='none',marker='o', color='black', label='Angel and Hugh-Jones (1994)')\n",
    "\n",
    "ax_array[0][1].set_axis_off()\n",
    "legend = ax_array[0][1].legend(handles=[red_patch,cyan_patch,blue_patch,us], loc = 'center')\n",
    "legend.get_frame().set_linewidth(0.0)\n",
    "param_names = ['$\\mathbf{V_0}$','$\\mathbf{K_0}$','$\\mathbf{K_0}$\\'']\n",
    "param_units = ['$\\mathbf{\\AA^3}$','GPa','']\n",
    "if param_names != []:\n",
    "    for i in range(n_params-1):\n",
    "        ax_array[n_params-2][i].set_xlabel('{0:s} ({1:s})'.format(param_names[i],param_units[i]),fontweight='bold')\n",
    "    for j in range(1, n_params):\n",
    "        if param_units[j] == param_units[2]:\n",
    "            ax_array[j-1][0].set_ylabel('{0:s}'.format(param_names[j]),fontweight='bold')\n",
    "        else:\n",
    "            ax_array[j-1][0].set_ylabel('{0:s} ({1:s})'.format(param_names[j],param_units[j]),fontweight='bold')\n",
    "        ax_array[j-1][0].yaxis.set_label_coords(-0.25,0.5)\n",
    "\n",
    "#fig.savefig('confidence-ellipse.png',dpi=800)\n",
    "plt.show()"
   ]
  },
  {
   "cell_type": "markdown",
   "metadata": {},
   "source": [
    "# 10. Plot data and new EoS."
   ]
  },
  {
   "cell_type": "code",
   "execution_count": null,
   "metadata": {
    "collapsed": false
   },
   "outputs": [],
   "source": [
    "maxp = np.amax(pv_clsq[:,0])*1.e9+(2.e9)\n",
    "pressures = np.linspace(1.e5, maxp, 101)\n",
    "volumes = np.empty_like(pressures)\n",
    "\n",
    "PTVs = np.empty((len(pressures), 3))\n",
    "for i, P in enumerate(pressures):\n",
    "    smp.set_state(P, T)\n",
    "    PTVs[i] = [P, T, smp.V]\n",
    "\n",
    "# Plot the 95% confidence and prediction bands \n",
    "cp_bands = burnman.nonlinear_fitting.confidence_prediction_bands(model = fitted_eos, x_array = PTVs,\n",
    "                                                                 confidence_interval = 0.95,\n",
    "                                                                 f=burnman.tools.attribute_function(smp, 'V'),\n",
    "                                                                 flag='V')\n",
    "\n",
    "plt.plot(PTVs[:,0]/1.e9, cp_bands[0] * (z/(con.N_A))*(1e30), linestyle='--', linewidth=0.75, color='r', label='95% confidence bands')\n",
    "plt.plot(PTVs[:,0]/1.e9, cp_bands[1] * (z/(con.N_A))*(1e30), linestyle='--', linewidth=0.75, color='r')\n",
    "\n",
    "\n",
    "plt.plot(PTVs[:,0] / 1.e9, PTVs[:,2] * (z/(con.N_A))*(1e30), label='BM3 %s' % 'old_data')\n",
    "\n",
    "\n",
    "#clino1 = np.delete(PTV, (6,7,8,9,10,11), axis=0)\n",
    "\n",
    "#cov11 = np.delete(PTV_covariances.T[0][0],(6,7,8,9,10,11))\n",
    "#cov21 = np.delete(PTV_covariances.T[2][2],(6,7,8,9,10,11))\n",
    "#cov12 = np.delete(PTV_covariances.T[0][0],(0,1,2,3,4,5))\n",
    "#cov22 = np.delete(PTV_covariances.T[2][2],(0,1,2,3,4,5))\n",
    "cov11 = PTV_covariances.T[0][0]\n",
    "cov21 = PTV_covariances.T[2][2]\n",
    "cov12 = PTV_covariances.T[0][0]\n",
    "cov22 = PTV_covariances.T[2][2]\n",
    "\n",
    "plt.errorbar(PTV[:,0] / 1.e9, PTV[:,2] * (z/(con.N_A))*(1e30), xerr=cov11 / 1.e9, \n",
    "             yerr=cov21 * (z/(con.N_A))*(1e30),\n",
    "             linestyle='None', marker='o', label='old_data',color='blue', alpha=1.0)\n",
    "\n",
    "######################\n",
    "pv_lsq,pv_clsq = new_data()\n",
    "plt.errorbar(pv_clsq[:,0], pv_clsq[:,2], fmt='ko', \\\n",
    "             xerr=pv_clsq[:,1], yerr=pv_clsq[:,3],label='new_data')\n",
    "######################\n",
    "\n",
    "#plt.xlim([2.5,37.5])\n",
    "#plt.ylim([325,400])\n",
    "plt.ylabel(\"Volume ($\\mathbf{\\AA^3}$)\",fontweight='bold')\n",
    "plt.xlabel(\"Pressure (GPa)\",fontweight='bold')\n",
    "plt.tick_params(direction='in',bottom=1,top=1,left=1,right=1)\n",
    "plt.legend(loc=\"upper right\")\n",
    "plt.title(\"%s EoS (%sK)\" % (sample,T),fontweight='bold')\n",
    "#plt.savefig('PV_eos-plot-to9GPa.png',dpi=800)\n",
    "plt.show()"
   ]
  },
  {
   "cell_type": "markdown",
   "metadata": {},
   "source": [
    "### Plot bulk modulus."
   ]
  },
  {
   "cell_type": "markdown",
   "metadata": {},
   "source": [
    "Isothermal bulk modulus: \n",
    "$K_{T}=(1+2f)^{5/2}\\biggl[  K_0+(3K_0{K}^\\prime_{0}-5K_0)f+\\frac{27}{2}(K_0{K}^\\prime_{0}-4K_0)f^2 \\biggr]$"
   ]
  },
  {
   "cell_type": "markdown",
   "metadata": {},
   "source": [
    "Shear modulus: $G = (1+2f)^{5/2}  \\biggl[G_0+(3K_0{G}^\\prime_{0}-5G_0)f+(6K_0{G}^\\prime_{0}-24K_0-14G_{0}\n",
    "     + \\frac{9}{2}K_{0}{K}^\\prime_{0})f^2 \\biggr]$"
   ]
  },
  {
   "cell_type": "code",
   "execution_count": null,
   "metadata": {
    "collapsed": false
   },
   "outputs": [],
   "source": [
    "cp_bands = burnman.nonlinear_fitting.confidence_prediction_bands(model = fitted_eos, x_array = PTVs,\n",
    "                                                                 confidence_interval = 0.95,\n",
    "                                                                 f=burnman.tools.attribute_function(smp, 'K_T'),\n",
    "                                                                 flag='V')\n",
    "array = np.array([[6.37389300e+09,2.98150000e+02,2.89943113e-05]])\n",
    "plt.plot(PTVs[:,0]/1.e9, (cp_bands[0] + cp_bands[1])/2.e9, color='b', label='Best fit')\n",
    "plt.plot(PTVs[:,0]/1.e9, (cp_bands[0])/1.e9, linestyle='--', linewidth=0.75, color='r', label='95% confidence band')\n",
    "plt.plot(PTVs[:,0]/1.e9, (cp_bands[1])/1.e9, linestyle='--', linewidth=0.75, color='r')\n",
    "cp_bands2 = burnman.nonlinear_fitting.confidence_prediction_bands(model = fitted_eos, x_array = array,\n",
    "                                                                 confidence_interval = 0.95,\n",
    "                                                                 f=burnman.tools.attribute_function(smp, 'K_T'),\n",
    "                                                                 flag='V')\n",
    "scale = (z/(con.N_A))*(1e30)\n",
    "#print(scale*array[0,2])\n",
    "#print((cp_bands2[0] + cp_bands2[1])/2.e9)\n",
    "plt.ylabel(\"K (GPa)\",fontweight='bold')\n",
    "plt.xlabel(\"Pressure (GPa)\",fontweight='bold')\n",
    "plt.tick_params(direction='in',bottom=1,top=1,left=1,right=1)\n",
    "plt.legend(loc=\"upper left\")\n",
    "plt.title(\"%s Bulk Modulus (%sK)\" % (sample,T),fontweight='bold')\n",
    "#plt.savefig('PK-plot.png',dpi=800)\n",
    "plt.show()"
   ]
  },
  {
   "cell_type": "markdown",
   "metadata": {},
   "source": [
    "### Miscellaneous plots."
   ]
  },
  {
   "cell_type": "code",
   "execution_count": null,
   "metadata": {
    "collapsed": false,
    "scrolled": false
   },
   "outputs": [],
   "source": [
    "a_len = []\n",
    "b_len = []\n",
    "c_len = []\n",
    "a_sigma = []\n",
    "b_sigma = []\n",
    "c_sigma = []\n",
    "beta_angle = []\n",
    "beta_sigma = []\n",
    "\n",
    "if len(dac_pressures) != len(lattice_params):\n",
    "    x = len(dac_pressures)-len(lattice_params)\n",
    "    del dac_pressures[(len(dac_pressures)-x):]\n",
    "    \n",
    "for i in range(len(lattice_params)):\n",
    "    n_cell = lattice_params[i]\n",
    "    a_len.append(n_cell[\"clsq\"][\"a\"])\n",
    "    b_len.append(n_cell[\"clsq\"][\"b\"])\n",
    "    c_len.append(n_cell[\"clsq\"][\"c\"])\n",
    "    a_sigma.append(n_cell[\"clsq\"][\"a_sigma\"])\n",
    "    b_sigma.append(n_cell[\"clsq\"][\"b_sigma\"])\n",
    "    c_sigma.append(n_cell[\"clsq\"][\"c_sigma\"])\n",
    "    beta_angle.append(n_cell[\"clsq\"][\"beta\"])\n",
    "    beta_sigma.append(n_cell[\"clsq\"][\"beta_sigma\"])\n",
    "\n",
    "print('a reduction: %.3f%%' % ((1-(a_len[len(a_len)-1]/a_len[0]))*100))\n",
    "print('b reduction: %.3f%%' % ((1-(b_len[len(b_len)-1]/b_len[0]))*100))\n",
    "print('c reduction: %.3f%%\\n' % ((1-(c_len[len(c_len)-1]/c_len[0]))*100))                         \n",
    "\n",
    "pars = line_mod.guess(a_len, x=dac_pressures)\n",
    "out = line_mod.fit(a_len, pars, x=dac_pressures)\n",
    "plt.plot(dac_pressures, out.best_fit, '-',color='black',linestyle='--', linewidth=0.75)\n",
    "plt.errorbar(dac_pressures, a_len,yerr=a_sigma, color='red',marker='o',linestyle='none',\n",
    "         label='a')\n",
    "print('a: %s' % out.fit_report())\n",
    "\n",
    "pars = line_mod.guess(b_len, x=dac_pressures)\n",
    "out = line_mod.fit(b_len, pars, x=dac_pressures)\n",
    "plt.plot(dac_pressures, out.best_fit, '-',color='black',linestyle='--', linewidth=0.75)\n",
    "plt.errorbar(dac_pressures, b_len,yerr=b_sigma,color='blue',marker='o',linestyle='none',\n",
    "        label='b')\n",
    "print('b: %s' % out.fit_report())\n",
    "\n",
    "pars = line_mod.guess(c_len, x=dac_pressures)\n",
    "out = line_mod.fit(c_len, pars, x=dac_pressures)\n",
    "plt.plot(dac_pressures, out.best_fit, '-',color='black',linestyle='--', linewidth=0.75)\n",
    "plt.errorbar(dac_pressures, c_len,yerr=c_sigma,color='black',marker='o',linestyle='none',\n",
    "        label='c')\n",
    "print('c: %s' % out.fit_report())\n",
    "\n",
    "plt.ylim([5.0,14.0])\n",
    "plt.ylabel(\"Length ($\\mathbf{\\AA}$)\",fontweight='bold')\n",
    "plt.xlabel(\"Pressure (GPa)\",fontweight='bold')\n",
    "plt.tick_params(direction='in',bottom=1,top=1,left=1,right=1)\n",
    "plt.legend(loc=\"upper right\")\n",
    "plt.title(\"%s Lattice Parameters ($\\mathbf{\\AA}$)\" % (sample),fontweight='bold')\n",
    "#plt.savefig('lattice_parameters-plot.png',dpi=800)\n",
    "plt.show()"
   ]
  },
  {
   "cell_type": "code",
   "execution_count": null,
   "metadata": {
    "collapsed": false
   },
   "outputs": [],
   "source": [
    "print('beta_angle increase: %.3f%%' % ((1-(beta_angle[0]/beta_angle[len(beta_angle)-1]))*100))  \n",
    "\n",
    "plt.errorbar(dac_pressures, beta_angle, yerr = beta_sigma, color='black',marker='o',linestyle='none')\n",
    "pars = line_mod.guess(beta_angle, x=dac_pressures)\n",
    "out = line_mod.fit(beta_angle, pars, x=dac_pressures)\n",
    "plt.plot(dac_pressures, out.best_fit, '-',color='black',linestyle='--', linewidth=0.75)\n",
    "\n",
    "plt.ylabel(\"Angle (degrees)\",fontweight='bold')\n",
    "plt.xlabel(\"Pressure (GPa)\",fontweight='bold')\n",
    "plt.tick_params(direction='in',bottom=1,top=1,left=1,right=1)\n",
    "plt.title(\"%s Beta Angle (degrees)\" % (sample),fontweight='bold')\n",
    "#plt.savefig('angle-plot.png',dpi=800)\n",
    "plt.show()"
   ]
  },
  {
   "cell_type": "markdown",
   "metadata": {},
   "source": [
    "### Density."
   ]
  },
  {
   "cell_type": "code",
   "execution_count": null,
   "metadata": {
    "collapsed": false
   },
   "outputs": [],
   "source": [
    "print('V_0 [A^3]: %s' % v0)\n",
    "#Acetaminophen = C8H9NO2\n",
    "mass = (((12.011*8)+(1.008*9)+(14.007)+(15.999*2))/(con.N_A))*z\n",
    "vol_cm3 = v0*(1e-24)\n",
    "den = mass/vol_cm3\n",
    "print('Density_0 [g/cm^3]: %s' % den)\n",
    "\n",
    "volumes = (PTVs[:,2] * (z/(con.N_A))*(1e30))*(1e-24)\n",
    "densities = mass/volumes\n",
    "\n",
    "obs_densities = mass/(pv_clsq[:,2]*(1e-24))\n",
    "\n",
    "plt.plot((PTVs[:,0]*1e-9), densities, '-',color='black',linestyle='-', linewidth=1.0)\n",
    "plt.plot(dac_pressures,obs_densities,'ko')\n",
    "plt.ylabel(\"Density $\\mathbf{(g/cm^3)}$\",fontweight='bold')\n",
    "plt.xlabel(\"Pressure (GPa)\",fontweight='bold')\n",
    "plt.tick_params(direction='in',bottom=1,top=1,left=1,right=1)\n",
    "plt.title(\"%s Density\" % (sample),fontweight='bold')\n",
    "#plt.savefig('density-plot.png',dpi=800)\n",
    "plt.show()"
   ]
  },
  {
   "cell_type": "code",
   "execution_count": null,
   "metadata": {
    "collapsed": true
   },
   "outputs": [],
   "source": []
  },
  {
   "cell_type": "code",
   "execution_count": null,
   "metadata": {
    "collapsed": true
   },
   "outputs": [],
   "source": []
  }
 ],
 "metadata": {
  "anaconda-cloud": {},
  "kernelspec": {
   "display_name": "Python [default]",
   "language": "python",
   "name": "python3"
  },
  "language_info": {
   "codemirror_mode": {
    "name": "ipython",
    "version": 3
   },
   "file_extension": ".py",
   "mimetype": "text/x-python",
   "name": "python",
   "nbconvert_exporter": "python",
   "pygments_lexer": "ipython3",
   "version": "3.5.2"
  },
  "latex_envs": {
   "LaTeX_envs_menu_present": true,
   "autocomplete": true,
   "bibliofile": "biblio.bib",
   "cite_by": "apalike",
   "current_citInitial": 1,
   "eqLabelWithNumbers": true,
   "eqNumInitial": 0,
   "hotkeys": {
    "equation": "Ctrl-E",
    "itemize": "Ctrl-I"
   },
   "labels_anchors": false,
   "latex_user_defs": false,
   "report_style_numbering": false,
   "user_envs_cfg": false
  }
 },
 "nbformat": 4,
 "nbformat_minor": 1
}
